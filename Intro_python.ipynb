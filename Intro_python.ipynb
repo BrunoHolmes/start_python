{
 "cells": [
  {
   "cell_type": "markdown",
   "metadata": {},
   "source": [
    "## Sintaxe Python"
   ]
  },
  {
   "cell_type": "markdown",
   "metadata": {},
   "source": [
    "#### Exemplo Identação errada"
   ]
  },
  {
   "cell_type": "code",
   "execution_count": 1,
   "metadata": {},
   "outputs": [
    {
     "ename": "IndentationError",
     "evalue": "expected an indented block (<ipython-input-1-77513efbbb39>, line 2)",
     "output_type": "error",
     "traceback": [
      "\u001b[1;36m  File \u001b[1;32m\"<ipython-input-1-77513efbbb39>\"\u001b[1;36m, line \u001b[1;32m2\u001b[0m\n\u001b[1;33m    x = 42\u001b[0m\n\u001b[1;37m    ^\u001b[0m\n\u001b[1;31mIndentationError\u001b[0m\u001b[1;31m:\u001b[0m expected an indented block\n"
     ]
    }
   ],
   "source": [
    "def function():\n",
    "x = 42\n",
    "return x\n",
    "\n",
    "print(function())"
   ]
  },
  {
   "cell_type": "markdown",
   "metadata": {},
   "source": [
    "#### Exemplo Identação Correta"
   ]
  },
  {
   "cell_type": "code",
   "execution_count": 6,
   "metadata": {},
   "outputs": [],
   "source": [
    "def function():\n",
    "    x = 42\n",
    "    return x\n",
    "\n",
    "resposta = function()"
   ]
  },
  {
   "cell_type": "code",
   "execution_count": 13,
   "metadata": {},
   "outputs": [
    {
     "name": "stdout",
     "output_type": "stream",
     "text": [
      "RESPOSTA CORRETA\n"
     ]
    }
   ],
   "source": [
    "if resposta == 42: print('RESPOSTA CORRETA')"
   ]
  },
  {
   "cell_type": "code",
   "execution_count": 17,
   "metadata": {},
   "outputs": [
    {
     "data": {
      "text/plain": [
       "'\\n    EXEMPLO COMENTÁRIO\\n'"
      ]
     },
     "execution_count": 17,
     "metadata": {},
     "output_type": "execute_result"
    }
   ],
   "source": [
    "# EXEMPLO DE COMENTÁRIO\n",
    "\n",
    "'''\n",
    "    EXEMPLO COMENTÁRIO\n",
    "'''\n",
    "\n",
    "\"\"\"\n",
    "    EXEMPLO COMENTÁRIO\n",
    "\"\"\""
   ]
  },
  {
   "cell_type": "code",
   "execution_count": 18,
   "metadata": {},
   "outputs": [
    {
     "name": "stdout",
     "output_type": "stream",
     "text": [
      "Hello World\n"
     ]
    }
   ],
   "source": [
    "print('Hello World')"
   ]
  },
  {
   "cell_type": "code",
   "execution_count": 51,
   "metadata": {},
   "outputs": [
    {
     "name": "stdout",
     "output_type": "stream",
     "text": [
      "1\n",
      "1.1\n",
      "(1+1.1j)\n",
      "Python\n"
     ]
    }
   ],
   "source": [
    "inteiro = 1\n",
    "float1 = 1.1\n",
    "complex_type = 1 + 1.1j\n",
    "strings = 'Python'\n",
    "lista_var = [2,3,5,4,60]\n",
    "\n",
    "\n",
    "print(inteiro)\n",
    "print(float1)\n",
    "print(complex_type)\n",
    "print(strings)"
   ]
  },
  {
   "cell_type": "markdown",
   "metadata": {},
   "source": [
    "#### Operações matemáticas"
   ]
  },
  {
   "cell_type": "code",
   "execution_count": 50,
   "metadata": {},
   "outputs": [
    {
     "name": "stdout",
     "output_type": "stream",
     "text": [
      "49\n"
     ]
    }
   ],
   "source": [
    "soma = 11 + 7\n",
    "subtracao = 18-11\n",
    "multiplicacao = 77 * 11\n",
    "divisao = 77/11\n",
    "mod = 7 % 11\n",
    "elevado = 7**2\n",
    "\n",
    "print(elevado)"
   ]
  },
  {
   "cell_type": "markdown",
   "metadata": {},
   "source": [
    "#### Operadores Lógicos"
   ]
  },
  {
   "cell_type": "code",
   "execution_count": 49,
   "metadata": {},
   "outputs": [
    {
     "name": "stdout",
     "output_type": "stream",
     "text": [
      "Menor que Soma\n"
     ]
    }
   ],
   "source": [
    "a = 10\n",
    "\n",
    "if a < soma: \n",
    "    print('Menor que Soma')\n",
    "elif a < subtracao:\n",
    "    print('Menor que Subtração')\n",
    "elif a != multiplicacao:\n",
    "    print('maior que multiplicacao')\n",
    "\n",
    "else:\n",
    "    print('Caiu no Else')"
   ]
  },
  {
   "cell_type": "markdown",
   "metadata": {},
   "source": [
    "#### Operadores In e IS"
   ]
  },
  {
   "cell_type": "code",
   "execution_count": 52,
   "metadata": {},
   "outputs": [
    {
     "name": "stdout",
     "output_type": "stream",
     "text": [
      "not\n",
      "True\n"
     ]
    }
   ],
   "source": [
    "var_A = 1\n",
    "var_B = 2\n",
    "\n",
    "if  var_A is var_B:\n",
    "    print('sim, temos br na string')\n",
    "else:\n",
    "    print('not')\n",
    "    \n",
    "string_ = 'subway'\n",
    "if 'sub' in string_:\n",
    "    print('True')\n"
   ]
  },
  {
   "cell_type": "markdown",
   "metadata": {},
   "source": [
    "#### Input do usuário"
   ]
  },
  {
   "cell_type": "code",
   "execution_count": 67,
   "metadata": {},
   "outputs": [
    {
     "name": "stdout",
     "output_type": "stream",
     "text": [
      "Digite um número: 50\n"
     ]
    }
   ],
   "source": [
    "a = input('Digite um número: ')"
   ]
  },
  {
   "cell_type": "code",
   "execution_count": 68,
   "metadata": {},
   "outputs": [
    {
     "name": "stdout",
     "output_type": "stream",
     "text": [
      "50\n"
     ]
    }
   ],
   "source": [
    "print(a)"
   ]
  },
  {
   "cell_type": "markdown",
   "metadata": {},
   "source": [
    "#### Strings do Python"
   ]
  },
  {
   "cell_type": "code",
   "execution_count": 104,
   "metadata": {},
   "outputs": [
    {
     "name": "stdout",
     "output_type": "stream",
     "text": [
      "Curso ADS é top! é top! é top! é top! é top! é top! é top! é top! é top! é top! é top! é top! é top! é top! é top! é top! é top! é top! é top! é top! é top! é top! é top! é top! é top! é top! é top! é top! é top! é top! é top! é top! é top! é top! é top! é top! é top! é top! é top! é top! é top! é top! é top! é top! é top! é top! é top! é top! é top! é top! é top! é top! é top! é top! é top! é top! é top! é top! é top! é top! é top! é top! é top! é top! é top! é top! é top! é top! é top! é top! é top! é top! é top! é top! é top! é top! é top! é top! é top! é top! é top! é top! é top! é top! é top! é top! é top! é top! é top! é top! é top! é top! é top! é top! é top! é top! é top! é top! é top! é top!\n",
      "----------------------------------------------------------------------------------------------------\n",
      "Horário: 07h05\n"
     ]
    }
   ],
   "source": [
    "s = 'Curso ADS'\n",
    "d = ' é top!'\n",
    "\n",
    "concatenate_option1 = s + d\n",
    "concatenate_option2 = f\"{s} ---///--- {d}\"\n",
    "\n",
    "concatenate_option_3 = s + 100*d\n",
    "\n",
    "print(concatenate_option_3)\n",
    "\n",
    "print('--'*50)\n",
    "\n",
    "a = 7\n",
    "b = 5\n",
    "apresentacao_hora = f\"Horário: 0{a}h0{b}\"\n",
    "print(apresentacao_hora)"
   ]
  },
  {
   "cell_type": "code",
   "execution_count": 119,
   "metadata": {},
   "outputs": [
    {
     "name": "stdout",
     "output_type": "stream",
     "text": [
      "Aula p\n"
     ]
    }
   ],
   "source": [
    "string = 'Aula python completo'\n",
    "\n",
    "print(string[0 : 6])"
   ]
  },
  {
   "cell_type": "markdown",
   "metadata": {},
   "source": [
    "#### Laços de Repetição"
   ]
  },
  {
   "cell_type": "code",
   "execution_count": 92,
   "metadata": {},
   "outputs": [
    {
     "name": "stdout",
     "output_type": "stream",
     "text": [
      "0\n",
      "1\n",
      "2\n",
      "3\n",
      "4\n"
     ]
    }
   ],
   "source": [
    "'''\n",
    "No Java\n",
    "\n",
    "for (int i = 0; i < 100; i++){\n",
    "    print(i)\n",
    "}\n",
    "'''\n",
    "\n",
    "\n",
    "\n",
    "for i in range(5):\n",
    "    print(i)"
   ]
  },
  {
   "cell_type": "code",
   "execution_count": 94,
   "metadata": {},
   "outputs": [
    {
     "name": "stdout",
     "output_type": "stream",
     "text": [
      "G\n",
      "r\n",
      "a\n",
      "d\n",
      "u\n",
      "a\n",
      "c\n",
      "a\n",
      "o\n"
     ]
    }
   ],
   "source": [
    "string = 'Graduacao'\n",
    "\n",
    "for i in string:\n",
    "    print(i)"
   ]
  },
  {
   "cell_type": "code",
   "execution_count": 117,
   "metadata": {},
   "outputs": [
    {
     "name": "stdout",
     "output_type": "stream",
     "text": [
      "87\n",
      "----------------------------------------------------------------------------------------------------\n",
      "5\n",
      "2\n",
      "3\n",
      "2\n",
      "1\n",
      "6\n",
      "87\n",
      "5\n",
      "548\n",
      "5\n"
     ]
    }
   ],
   "source": [
    "lista = [5,2,3,2,1,6,87,5,548,5]\n",
    "lista.sort(reverse=True)\n",
    "\n",
    "print(lista[-4])\n",
    "print('--'*50)\n",
    "\n",
    "for i in lista:\n",
    "    print(i)"
   ]
  },
  {
   "cell_type": "code",
   "execution_count": 100,
   "metadata": {},
   "outputs": [
    {
     "name": "stdout",
     "output_type": "stream",
     "text": [
      "Aula\n",
      "pyton\n",
      "3\n"
     ]
    }
   ],
   "source": [
    "lista_letras_numeros = ['Aula', 'pyton', 3]\n",
    "\n",
    "for i in lista_letras_numeros:\n",
    "    print(i)"
   ]
  },
  {
   "cell_type": "code",
   "execution_count": 103,
   "metadata": {},
   "outputs": [
    {
     "name": "stdout",
     "output_type": "stream",
     "text": [
      "0\n",
      "1\n",
      "2\n",
      "3\n",
      "4\n"
     ]
    }
   ],
   "source": [
    "a = 0\n",
    "b = 5\n",
    "\n",
    "while a < b:\n",
    "    print(a)\n",
    "    \n",
    "    a = a+1"
   ]
  },
  {
   "cell_type": "code",
   "execution_count": 123,
   "metadata": {},
   "outputs": [
    {
     "name": "stdout",
     "output_type": "stream",
     "text": [
      "[5, 2, 3, 2, 1, 6, 87, 5, 548, 5, 500, 500, 500]\n"
     ]
    }
   ],
   "source": [
    "lista.append(500)\n",
    "print(lista)"
   ]
  },
  {
   "cell_type": "code",
   "execution_count": 128,
   "metadata": {},
   "outputs": [
    {
     "name": "stdout",
     "output_type": "stream",
     "text": [
      "[3, 2, 1, 6, 5, 548, 5, 500]\n"
     ]
    }
   ],
   "source": [
    "#lista.remove(87)\n",
    "lista.pop(0)\n",
    "print(lista)"
   ]
  },
  {
   "cell_type": "code",
   "execution_count": 131,
   "metadata": {},
   "outputs": [
    {
     "name": "stdout",
     "output_type": "stream",
     "text": [
      "Insira um novo valor: 10\n",
      "Insira um novo valor: 20\n",
      "Insira um novo valor: 30\n",
      "Insira um novo valor: 40\n",
      "Insira um novo valor: 50\n"
     ]
    }
   ],
   "source": [
    "list_use = []\n",
    "for i in range(5):\n",
    "    list_use.append(input('Insira um novo valor: '))"
   ]
  },
  {
   "cell_type": "code",
   "execution_count": 134,
   "metadata": {},
   "outputs": [],
   "source": [
    "list_use_int = []\n",
    "for i in list_use:\n",
    "    list_use_int.append(int(i))"
   ]
  },
  {
   "cell_type": "code",
   "execution_count": 138,
   "metadata": {},
   "outputs": [
    {
     "name": "stdout",
     "output_type": "stream",
     "text": [
      "['10', '20', '30', '40', '50']\n",
      "[10, 20, 30, 40, 50]\n"
     ]
    }
   ],
   "source": [
    "print(list_use)\n",
    "print(list_use_int)"
   ]
  },
  {
   "cell_type": "code",
   "execution_count": 139,
   "metadata": {},
   "outputs": [],
   "source": [
    "list_of_integers = [int(i) for i in list_use]"
   ]
  },
  {
   "cell_type": "code",
   "execution_count": 141,
   "metadata": {},
   "outputs": [
    {
     "data": {
      "text/plain": [
       "[10, 20, 30, 40, 50]"
      ]
     },
     "execution_count": 141,
     "metadata": {},
     "output_type": "execute_result"
    }
   ],
   "source": [
    "list_of_integers"
   ]
  },
  {
   "cell_type": "markdown",
   "metadata": {},
   "source": [
    "#### Dicionário"
   ]
  },
  {
   "cell_type": "code",
   "execution_count": 146,
   "metadata": {},
   "outputs": [],
   "source": [
    "dicionario = dict()\n",
    "dicionario = {'chave1': 1, 'chave2': 2, 'chave3': 3}"
   ]
  },
  {
   "cell_type": "code",
   "execution_count": 149,
   "metadata": {},
   "outputs": [
    {
     "name": "stdout",
     "output_type": "stream",
     "text": [
      "{'chave1': 1, 'chave2': 2, 'chave3': 3}\n",
      "2\n"
     ]
    }
   ],
   "source": [
    "print(dicionario)\n",
    "print(dicionario['chave2'])"
   ]
  },
  {
   "cell_type": "code",
   "execution_count": 150,
   "metadata": {},
   "outputs": [
    {
     "name": "stdout",
     "output_type": "stream",
     "text": [
      "{'chave1': 1, 'chave2': 2, 'chave3': 3}\n"
     ]
    }
   ],
   "source": [
    "dicionario_segunda_forma = dict()\n",
    "dicionario_segunda_forma['chave1'] = 1\n",
    "dicionario_segunda_forma['chave2'] = 2\n",
    "dicionario_segunda_forma['chave3'] = 3\n",
    "\n",
    "print(dicionario_segunda_forma)"
   ]
  }
 ],
 "metadata": {
  "kernelspec": {
   "display_name": "Python 3",
   "language": "python",
   "name": "python3"
  },
  "language_info": {
   "codemirror_mode": {
    "name": "ipython",
    "version": 3
   },
   "file_extension": ".py",
   "mimetype": "text/x-python",
   "name": "python",
   "nbconvert_exporter": "python",
   "pygments_lexer": "ipython3",
   "version": "3.6.5"
  }
 },
 "nbformat": 4,
 "nbformat_minor": 4
}
